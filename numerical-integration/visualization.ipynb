{
 "cells": [
  {
   "cell_type": "code",
   "execution_count": 1,
   "id": "5ff4bffa-0463-46e4-9140-a6b24a5f07f3",
   "metadata": {},
   "outputs": [],
   "source": [
    "from visualization import *\n",
    "from ipywidgets import interact, interactive, fixed, interact_manual\n",
    "import ipywidgets as widgets\n",
    "from ipywidgets import interact\n",
    "from functools import partial\n",
    "import numpy as np"
   ]
  },
  {
   "cell_type": "code",
   "execution_count": 2,
   "id": "642e165b-44e0-49e5-9b7c-5d80c77a2973",
   "metadata": {},
   "outputs": [
    {
     "name": "stdin",
     "output_type": "stream",
     "text": [
      "Enter function with parameter \"x\":  np.sin(x)\n"
     ]
    }
   ],
   "source": [
    "function_str = input('Enter function with parameter \"x\": ')\n",
    "\n",
    "def f(x):\n",
    "    return eval(function_str)"
   ]
  },
  {
   "cell_type": "markdown",
   "id": "3cdaca02-04d7-476d-bb59-f14e1c71cba5",
   "metadata": {},
   "source": [
    "1. Rectangle Rule Start"
   ]
  },
  {
   "cell_type": "code",
   "execution_count": 3,
   "id": "d3aaf2d7-1e60-4364-bfd0-94a0d8c1f7d9",
   "metadata": {},
   "outputs": [
    {
     "data": {
      "application/vnd.jupyter.widget-view+json": {
       "model_id": "0fc04c8dfe07423690e433fed8180441",
       "version_major": 2,
       "version_minor": 0
      },
      "text/plain": [
       "HBox(children=(IntSlider(value=-5, description='Start: ', max=5, min=-5), IntSlider(value=5, description='End:…"
      ]
     },
     "metadata": {},
     "output_type": "display_data"
    },
    {
     "data": {
      "application/vnd.jupyter.widget-view+json": {
       "model_id": "9d608e14d16c4ecab6fc9aaf47427121",
       "version_major": 2,
       "version_minor": 0
      },
      "text/plain": [
       "Output()"
      ]
     },
     "metadata": {},
     "output_type": "display_data"
    }
   ],
   "source": [
    "start = widgets.IntSlider(value=-5, min=-5, max=5, description='Start: ')\n",
    "end = widgets.IntSlider(value=5, min=-5, max=5, description='End: ')\n",
    "num_slices = widgets.IntSlider(value = 5, min=1, max=100, description='# Slices: ')\n",
    "ui = widgets.HBox([start, end, num_slices])\n",
    "\n",
    "plot_rectangle_rule_start_bound = partial(plot_rectangle_rule_start, f)\n",
    "out = widgets.interactive_output(plot_rectangle_rule_start_bound, {'start': start, 'end': end, 'num_slices': num_slices})\n",
    "display(ui, out)"
   ]
  },
  {
   "cell_type": "markdown",
   "id": "58854a32-b826-467c-a73d-88b7ad7f1b5b",
   "metadata": {},
   "source": [
    "2. Rectangle Rule Mid"
   ]
  },
  {
   "cell_type": "code",
   "execution_count": 4,
   "id": "d53c6c57-496e-4ef5-bc18-51ffad96bdde",
   "metadata": {},
   "outputs": [
    {
     "data": {
      "application/vnd.jupyter.widget-view+json": {
       "model_id": "2d58ecd79ecb4f478fb86ae9443c66c0",
       "version_major": 2,
       "version_minor": 0
      },
      "text/plain": [
       "HBox(children=(IntSlider(value=-5, description='Start: ', max=5, min=-5), IntSlider(value=5, description='End:…"
      ]
     },
     "metadata": {},
     "output_type": "display_data"
    },
    {
     "data": {
      "application/vnd.jupyter.widget-view+json": {
       "model_id": "e98d3d0a805845fd874b11cea01ba9ae",
       "version_major": 2,
       "version_minor": 0
      },
      "text/plain": [
       "Output()"
      ]
     },
     "metadata": {},
     "output_type": "display_data"
    }
   ],
   "source": [
    "start = widgets.IntSlider(value=-5, min=-5, max=5, description='Start: ')\n",
    "end = widgets.IntSlider(value=5, min=-5, max=5, description='End: ')\n",
    "num_slices = widgets.IntSlider(value = 5, min=1, max=100, description='# Slices: ')\n",
    "ui = widgets.HBox([start, end, num_slices])\n",
    "\n",
    "plot_rectangle_rule_mid_bound = partial(plot_rectangle_rule_mid, f)\n",
    "out = widgets.interactive_output(plot_rectangle_rule_mid_bound, {'start': start, 'end': end, 'num_slices': num_slices})\n",
    "display(ui, out)"
   ]
  },
  {
   "cell_type": "markdown",
   "id": "3d68b6a7-64f4-414d-857d-cd2e4eac05c5",
   "metadata": {},
   "source": [
    "3. Rectangle Rule End"
   ]
  },
  {
   "cell_type": "code",
   "execution_count": 5,
   "id": "2d7001f6-3f62-4e57-9ec2-91e04655eaa4",
   "metadata": {},
   "outputs": [
    {
     "data": {
      "application/vnd.jupyter.widget-view+json": {
       "model_id": "f30916d1cba846149e8986ec6940f30b",
       "version_major": 2,
       "version_minor": 0
      },
      "text/plain": [
       "HBox(children=(IntSlider(value=-5, description='Start: ', max=5, min=-5), IntSlider(value=5, description='End:…"
      ]
     },
     "metadata": {},
     "output_type": "display_data"
    },
    {
     "data": {
      "application/vnd.jupyter.widget-view+json": {
       "model_id": "54ea90f0ba35437991d0cb9262848dd1",
       "version_major": 2,
       "version_minor": 0
      },
      "text/plain": [
       "Output()"
      ]
     },
     "metadata": {},
     "output_type": "display_data"
    }
   ],
   "source": [
    "start = widgets.IntSlider(value=-5, min=-5, max=5, description='Start: ')\n",
    "end = widgets.IntSlider(value=5, min=-5, max=5, description='End: ')\n",
    "num_slices = widgets.IntSlider(value = 5, min=1, max=100, description='# Slices: ')\n",
    "ui = widgets.HBox([start, end, num_slices])\n",
    "\n",
    "plot_rectangle_rule_end_bound = partial(plot_rectangle_rule_end, f)\n",
    "out = widgets.interactive_output(plot_rectangle_rule_end_bound, {'start': start, 'end': end, 'num_slices': num_slices})\n",
    "display(ui, out)"
   ]
  },
  {
   "cell_type": "markdown",
   "id": "c2dac911-8501-46f6-b470-bc3365523f0e",
   "metadata": {
    "tags": []
   },
   "source": [
    "4. Trapezoid Rule"
   ]
  },
  {
   "cell_type": "code",
   "execution_count": 6,
   "id": "59daddb2-cb2e-424e-96d1-78f8ac948d3b",
   "metadata": {},
   "outputs": [
    {
     "data": {
      "application/vnd.jupyter.widget-view+json": {
       "model_id": "02df56f72fff4589a81e7a186c5a6bfa",
       "version_major": 2,
       "version_minor": 0
      },
      "text/plain": [
       "HBox(children=(IntSlider(value=-5, description='Start: ', max=5, min=-5), IntSlider(value=5, description='End:…"
      ]
     },
     "metadata": {},
     "output_type": "display_data"
    },
    {
     "data": {
      "application/vnd.jupyter.widget-view+json": {
       "model_id": "0be21e0eec73431789c65be53dc67d91",
       "version_major": 2,
       "version_minor": 0
      },
      "text/plain": [
       "Output()"
      ]
     },
     "metadata": {},
     "output_type": "display_data"
    }
   ],
   "source": [
    "start = widgets.IntSlider(value=-5, min=-5, max=5, description='Start: ')\n",
    "end = widgets.IntSlider(value=5, min=-5, max=5, description='End: ')\n",
    "num_slices = widgets.IntSlider(value = 5, min=1, max=100, description='# Slices: ')\n",
    "ui = widgets.HBox([start, end, num_slices])\n",
    "\n",
    "plot_trapezoidal_rule_bound = partial(plot_trapezoidal_rule, f)\n",
    "out = widgets.interactive_output(plot_trapezoidal_rule_bound, {'start': start, 'end': end, 'num_slices': num_slices})\n",
    "display(ui, out)"
   ]
  },
  {
   "cell_type": "markdown",
   "id": "2dc0965c-4dd1-4fc3-81e5-55836acb70cd",
   "metadata": {},
   "source": [
    "5. Barrel Rule"
   ]
  },
  {
   "cell_type": "code",
   "execution_count": 7,
   "id": "d4f8e999-bb9c-4e2c-a688-732336a3c975",
   "metadata": {},
   "outputs": [
    {
     "data": {
      "application/vnd.jupyter.widget-view+json": {
       "model_id": "8a9867861eb34cef86fe7a509b985ddd",
       "version_major": 2,
       "version_minor": 0
      },
      "text/plain": [
       "HBox(children=(IntSlider(value=-5, description='Start: ', max=5, min=-5), IntSlider(value=5, description='End:…"
      ]
     },
     "metadata": {},
     "output_type": "display_data"
    },
    {
     "data": {
      "application/vnd.jupyter.widget-view+json": {
       "model_id": "906c4fc778e04359ac33235dcfd60685",
       "version_major": 2,
       "version_minor": 0
      },
      "text/plain": [
       "Output()"
      ]
     },
     "metadata": {},
     "output_type": "display_data"
    }
   ],
   "source": [
    "start = widgets.IntSlider(value=-5, min=-5, max=5, description='Start: ')\n",
    "end = widgets.IntSlider(value=5, min=-5, max=5, description='End: ')\n",
    "num_slices = widgets.IntSlider(value = 5, min=1, max=100, description='# Slices: ')\n",
    "ui = widgets.HBox([start, end, num_slices])\n",
    "\n",
    "plot_barrel_rule_bound = partial(plot_barrel_rule, f)\n",
    "out = widgets.interactive_output(plot_barrel_rule_bound, {'start': start, 'end': end, 'num_slices': num_slices})\n",
    "display(ui, out)"
   ]
  }
 ],
 "metadata": {
  "kernelspec": {
   "display_name": "Python 3 (ipykernel)",
   "language": "python",
   "name": "python3"
  },
  "language_info": {
   "codemirror_mode": {
    "name": "ipython",
    "version": 3
   },
   "file_extension": ".py",
   "mimetype": "text/x-python",
   "name": "python",
   "nbconvert_exporter": "python",
   "pygments_lexer": "ipython3",
   "version": "3.9.5"
  }
 },
 "nbformat": 4,
 "nbformat_minor": 5
}
