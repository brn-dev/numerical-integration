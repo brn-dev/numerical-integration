{
 "cells": [
  {
   "cell_type": "code",
   "execution_count": 1,
   "id": "5ff4bffa-0463-46e4-9140-a6b24a5f07f3",
   "metadata": {},
   "outputs": [],
   "source": [
    "from visualization import *\n",
    "from ipywidgets import interact, interactive, fixed, interact_manual\n",
    "import ipywidgets as widgets\n",
    "from ipywidgets import interact\n",
    "from functools import partial\n",
    "import numpy as np"
   ]
  },
  {
   "cell_type": "code",
   "execution_count": 2,
   "id": "642e165b-44e0-49e5-9b7c-5d80c77a2973",
   "metadata": {},
   "outputs": [
    {
     "name": "stdin",
     "output_type": "stream",
     "text": [
      "Enter function with parameter \"x\":  x ** 2\n"
     ]
    }
   ],
   "source": [
    "function_str = input('Enter function with parameter \"x\": ')\n",
    "\n",
    "def f(x):\n",
    "    return eval(function_str)"
   ]
  },
  {
   "cell_type": "markdown",
   "id": "3cdaca02-04d7-476d-bb59-f14e1c71cba5",
   "metadata": {},
   "source": [
    "1. Rectangle Rule Start"
   ]
  },
  {
   "cell_type": "code",
   "execution_count": 3,
   "id": "d3aaf2d7-1e60-4364-bfd0-94a0d8c1f7d9",
   "metadata": {},
   "outputs": [
    {
     "data": {
      "application/vnd.jupyter.widget-view+json": {
       "model_id": "ad9250db006c4d52a10e0a4af5f9cd9a",
       "version_major": 2,
       "version_minor": 0
      },
      "text/plain": [
       "HBox(children=(IntSlider(value=-5, description='Start: ', max=5, min=-5), IntSlider(value=5, description='End:…"
      ]
     },
     "metadata": {},
     "output_type": "display_data"
    },
    {
     "data": {
      "application/vnd.jupyter.widget-view+json": {
       "model_id": "9ce972b6e07049cf9e38f6516afcf160",
       "version_major": 2,
       "version_minor": 0
      },
      "text/plain": [
       "Output()"
      ]
     },
     "metadata": {},
     "output_type": "display_data"
    }
   ],
   "source": [
    "start = widgets.IntSlider(value=-5, min=-5, max=5, description='Start: ')\n",
    "end = widgets.IntSlider(value=5, min=-5, max=5, description='End: ')\n",
    "num_slices = widgets.IntSlider(value = 5, min=1, max=100, description='# Slices: ')\n",
    "ui = widgets.HBox([start, end, num_slices])\n",
    "\n",
    "plot_rectangle_rule_start_bound = partial(plot_rectangle_rule_start, f)\n",
    "out = widgets.interactive_output(plot_rectangle_rule_start_bound, {'start': start, 'end': end, 'num_slices': num_slices})\n",
    "display(ui, out)"
   ]
  },
  {
   "cell_type": "markdown",
   "id": "58854a32-b826-467c-a73d-88b7ad7f1b5b",
   "metadata": {},
   "source": [
    "2. Rectangle Rule Mid"
   ]
  },
  {
   "cell_type": "code",
   "execution_count": 4,
   "id": "d53c6c57-496e-4ef5-bc18-51ffad96bdde",
   "metadata": {},
   "outputs": [
    {
     "data": {
      "application/vnd.jupyter.widget-view+json": {
       "model_id": "e35e190422e04e50ba8eba59591d96c2",
       "version_major": 2,
       "version_minor": 0
      },
      "text/plain": [
       "HBox(children=(IntSlider(value=-5, description='Start: ', max=5, min=-5), IntSlider(value=5, description='End:…"
      ]
     },
     "metadata": {},
     "output_type": "display_data"
    },
    {
     "data": {
      "application/vnd.jupyter.widget-view+json": {
       "model_id": "b15673cdb38140cb90553c516af38d3a",
       "version_major": 2,
       "version_minor": 0
      },
      "text/plain": [
       "Output()"
      ]
     },
     "metadata": {},
     "output_type": "display_data"
    }
   ],
   "source": [
    "start = widgets.IntSlider(value=-5, min=-5, max=5, description='Start: ')\n",
    "end = widgets.IntSlider(value=5, min=-5, max=5, description='End: ')\n",
    "num_slices = widgets.IntSlider(value = 5, min=1, max=100, description='# Slices: ')\n",
    "ui = widgets.HBox([start, end, num_slices])\n",
    "\n",
    "plot_rectangle_rule_mid_bound = partial(plot_rectangle_rule_mid, f)\n",
    "out = widgets.interactive_output(plot_rectangle_rule_mid_bound, {'start': start, 'end': end, 'num_slices': num_slices})\n",
    "display(ui, out)"
   ]
  },
  {
   "cell_type": "markdown",
   "id": "3d68b6a7-64f4-414d-857d-cd2e4eac05c5",
   "metadata": {},
   "source": [
    "3. Rectangle Rule End"
   ]
  },
  {
   "cell_type": "code",
   "execution_count": 5,
   "id": "2d7001f6-3f62-4e57-9ec2-91e04655eaa4",
   "metadata": {},
   "outputs": [
    {
     "data": {
      "application/vnd.jupyter.widget-view+json": {
       "model_id": "7be46a3cf04b41b494a0c3ac21627640",
       "version_major": 2,
       "version_minor": 0
      },
      "text/plain": [
       "HBox(children=(IntSlider(value=-5, description='Start: ', max=5, min=-5), IntSlider(value=5, description='End:…"
      ]
     },
     "metadata": {},
     "output_type": "display_data"
    },
    {
     "data": {
      "application/vnd.jupyter.widget-view+json": {
       "model_id": "00ca284103ff45edac26ea80ac0023c7",
       "version_major": 2,
       "version_minor": 0
      },
      "text/plain": [
       "Output()"
      ]
     },
     "metadata": {},
     "output_type": "display_data"
    }
   ],
   "source": [
    "start = widgets.IntSlider(value=-5, min=-5, max=5, description='Start: ')\n",
    "end = widgets.IntSlider(value=5, min=-5, max=5, description='End: ')\n",
    "num_slices = widgets.IntSlider(value = 5, min=1, max=100, description='# Slices: ')\n",
    "ui = widgets.HBox([start, end, num_slices])\n",
    "\n",
    "plot_rectangle_rule_end_bound = partial(plot_rectangle_rule_end, f)\n",
    "out = widgets.interactive_output(plot_rectangle_rule_end_bound, {'start': start, 'end': end, 'num_slices': num_slices})\n",
    "display(ui, out)"
   ]
  },
  {
   "cell_type": "markdown",
   "id": "c2dac911-8501-46f6-b470-bc3365523f0e",
   "metadata": {
    "tags": []
   },
   "source": [
    "4. Trapezoid Rule"
   ]
  },
  {
   "cell_type": "code",
   "execution_count": 6,
   "id": "59daddb2-cb2e-424e-96d1-78f8ac948d3b",
   "metadata": {},
   "outputs": [
    {
     "data": {
      "application/vnd.jupyter.widget-view+json": {
       "model_id": "d30173d788084348afe76f3f5ac74972",
       "version_major": 2,
       "version_minor": 0
      },
      "text/plain": [
       "HBox(children=(IntSlider(value=-5, description='Start: ', max=5, min=-5), IntSlider(value=5, description='End:…"
      ]
     },
     "metadata": {},
     "output_type": "display_data"
    },
    {
     "data": {
      "application/vnd.jupyter.widget-view+json": {
       "model_id": "93636276728e4ade961bc8b57ea952d3",
       "version_major": 2,
       "version_minor": 0
      },
      "text/plain": [
       "Output()"
      ]
     },
     "metadata": {},
     "output_type": "display_data"
    }
   ],
   "source": [
    "start = widgets.IntSlider(value=-5, min=-5, max=5, description='Start: ')\n",
    "end = widgets.IntSlider(value=5, min=-5, max=5, description='End: ')\n",
    "num_slices = widgets.IntSlider(value = 5, min=1, max=100, description='# Slices: ')\n",
    "ui = widgets.HBox([start, end, num_slices])\n",
    "\n",
    "plot_trapezoidal_rule_bound = partial(plot_trapezoidal_rule, f)\n",
    "out = widgets.interactive_output(plot_trapezoidal_rule_bound, {'start': start, 'end': end, 'num_slices': num_slices})\n",
    "display(ui, out)"
   ]
  },
  {
   "cell_type": "markdown",
   "id": "2dc0965c-4dd1-4fc3-81e5-55836acb70cd",
   "metadata": {},
   "source": [
    "5. Barrel Rule"
   ]
  },
  {
   "cell_type": "code",
   "execution_count": 7,
   "id": "d4f8e999-bb9c-4e2c-a688-732336a3c975",
   "metadata": {},
   "outputs": [
    {
     "data": {
      "application/vnd.jupyter.widget-view+json": {
       "model_id": "f120791b426d4b85abe58363a3ee0ead",
       "version_major": 2,
       "version_minor": 0
      },
      "text/plain": [
       "HBox(children=(IntSlider(value=-5, description='Start: ', max=5, min=-5), IntSlider(value=5, description='End:…"
      ]
     },
     "metadata": {},
     "output_type": "display_data"
    },
    {
     "data": {
      "application/vnd.jupyter.widget-view+json": {
       "model_id": "366d669a63e5448aa90c9aa1228ba33f",
       "version_major": 2,
       "version_minor": 0
      },
      "text/plain": [
       "Output()"
      ]
     },
     "metadata": {},
     "output_type": "display_data"
    }
   ],
   "source": [
    "start = widgets.IntSlider(value=-5, min=-5, max=5, description='Start: ')\n",
    "end = widgets.IntSlider(value=5, min=-5, max=5, description='End: ')\n",
    "num_slices = widgets.IntSlider(value = 5, min=1, max=100, description='# Slices: ')\n",
    "ui = widgets.HBox([start, end, num_slices])\n",
    "\n",
    "plot_barrel_rule_bound = partial(plot_barrel_rule, f)\n",
    "out = widgets.interactive_output(plot_barrel_rule_bound, {'start': start, 'end': end, 'num_slices': num_slices})\n",
    "display(ui, out)"
   ]
  }
 ],
 "metadata": {
  "kernelspec": {
   "display_name": "Python 3 (ipykernel)",
   "language": "python",
   "name": "python3"
  },
  "language_info": {
   "codemirror_mode": {
    "name": "ipython",
    "version": 3
   },
   "file_extension": ".py",
   "mimetype": "text/x-python",
   "name": "python",
   "nbconvert_exporter": "python",
   "pygments_lexer": "ipython3",
   "version": "3.9.5"
  }
 },
 "nbformat": 4,
 "nbformat_minor": 5
}
