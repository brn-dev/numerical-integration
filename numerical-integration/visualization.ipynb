{
 "cells": [
  {
   "cell_type": "code",
   "execution_count": 1,
   "id": "5ff4bffa-0463-46e4-9140-a6b24a5f07f3",
   "metadata": {},
   "outputs": [],
   "source": [
    "from visualization import *\n",
    "from ipywidgets import interact, interactive, fixed, interact_manual\n",
    "import ipywidgets as widgets\n",
    "from ipywidgets import interact\n",
    "from functools import partial\n",
    "import numpy as np"
   ]
  },
  {
   "cell_type": "markdown",
   "id": "bc66ab61-44be-46de-bfb3-73a930bf6694",
   "metadata": {
    "tags": []
   },
   "source": [
    "<h1>Numerical integration in 1D</h1>"
   ]
  },
  {
   "cell_type": "markdown",
   "id": "b1417fad-5d58-4731-9b22-d8dd376bec65",
   "metadata": {},
   "source": [
    "For a given function $f:\\mathbb{R} \\rightarrow \\mathbb{R}$ and an interval (a,b) $\\subset \\mathbb{R}$, compute an approximation of $\\int_{b}^{a}f(x) \\, \\text{d}x$ using various rules:"
   ]
  },
  {
   "cell_type": "code",
   "execution_count": 2,
   "id": "642e165b-44e0-49e5-9b7c-5d80c77a2973",
   "metadata": {},
   "outputs": [
    {
     "name": "stdin",
     "output_type": "stream",
     "text": [
      "Enter function with parameter \"x\":  1/x\n"
     ]
    }
   ],
   "source": [
    "function_str = input('Enter function with parameter \"x\": ')\n",
    "\n",
    "def f(x):\n",
    "    \"\"\"Function used for integration. If a specific function like a trigonometric one is desired, please use np.func.\"\"\"\n",
    "    return eval(function_str)"
   ]
  },
  {
   "cell_type": "markdown",
   "id": "3e275dfe-09e5-445b-9e58-8892d6661f70",
   "metadata": {
    "tags": []
   },
   "source": [
    "<h2>1. Rectangle Rule</h2>"
   ]
  },
  {
   "cell_type": "markdown",
   "id": "562c4831-a99b-4123-9fac-bf70fdb46bf9",
   "metadata": {},
   "source": [
    "The rectangular rule is perhaps the simplest of the three methods for estimating an integral you will see in this presentation. Let $f : [a, b] \\rightarrow \\mathbb {R}$. The rectangle method utilizes the Riemann integral definition to calculate an approximate estimate for the area under the curve by drawing many rectangles with very small width adjacent to each other between the graph of the function $f$ and the $x$ axis. Let $n$ be the number of intervals with $a=x_0 < x_1 < x_2 < \\cdots < x_n=b$ and constant spacing $h=x_{i+1}-x_i$. The rectangle method can be implemented in one of the following three ways: \n",
    "<ul>\n",
    "    <li>Rectangle rule Left: $\\int_{a}^b\\!f(x)\\,\\mathrm{d}x\\approx h\\sum_{i=1}^{n}f(x_{i-1})$</li>\n",
    "    <li>Rectangle rule Mid: $\\int_{a}^b\\!f(x)\\,\\mathrm{d}x\\approx h\\sum_{i=1}^{n}f\\left(\\frac{x_{i-1}+x_{i}}{2}\\right)$</li>\n",
    "    <li>Rectangle rule Right: $\\int_{a}^b\\!f(x)\\,\\mathrm{d}x\\approx h\\sum_{i=1}^{n}f(x_{i})$</li>\n",
    "</ul>\n",
    "The following visualizations give an idea on how these rules work and how they approximate an integral."
   ]
  },
  {
   "cell_type": "markdown",
   "id": "3cdaca02-04d7-476d-bb59-f14e1c71cba5",
   "metadata": {
    "tags": []
   },
   "source": [
    "<h3>a) Rectangle Rule Left</h3>"
   ]
  },
  {
   "cell_type": "code",
   "execution_count": 3,
   "id": "d3aaf2d7-1e60-4364-bfd0-94a0d8c1f7d9",
   "metadata": {},
   "outputs": [
    {
     "data": {
      "application/vnd.jupyter.widget-view+json": {
       "model_id": "06d6e7bf5f06496aa579ec25756b6f49",
       "version_major": 2,
       "version_minor": 0
      },
      "text/plain": [
       "HBox(children=(IntSlider(value=-5, description='Start: ', max=5, min=-5), IntSlider(value=5, description='End:…"
      ]
     },
     "metadata": {},
     "output_type": "display_data"
    },
    {
     "data": {
      "application/vnd.jupyter.widget-view+json": {
       "model_id": "ae15edce545f4597b62f52d915d3972e",
       "version_major": 2,
       "version_minor": 0
      },
      "text/plain": [
       "Output()"
      ]
     },
     "metadata": {},
     "output_type": "display_data"
    }
   ],
   "source": [
    "start = widgets.IntSlider(value=-5, min=-5, max=5, description='Start: ')\n",
    "end = widgets.IntSlider(value=5, min=-5, max=5, description='End: ')\n",
    "num_slices = widgets.IntSlider(value = 5, min=1, max=100, description='# Slices: ')\n",
    "ui = widgets.HBox([start, end, num_slices])\n",
    "\n",
    "plot_rectangle_rule_start_bound = partial(plot_rectangle_rule_start, f)\n",
    "out = widgets.interactive_output(plot_rectangle_rule_start_bound, {'start': start, 'end': end, 'num_slices': num_slices})\n",
    "display(ui, out)"
   ]
  },
  {
   "cell_type": "markdown",
   "id": "58854a32-b826-467c-a73d-88b7ad7f1b5b",
   "metadata": {},
   "source": [
    "<h3>b) Rectangle Rule Mid (=Midpoint rule and also an Open Newton-Cotes formula)</h3>"
   ]
  },
  {
   "cell_type": "code",
   "execution_count": 4,
   "id": "d53c6c57-496e-4ef5-bc18-51ffad96bdde",
   "metadata": {},
   "outputs": [
    {
     "data": {
      "application/vnd.jupyter.widget-view+json": {
       "model_id": "66452707acd5456b9810f8697e959343",
       "version_major": 2,
       "version_minor": 0
      },
      "text/plain": [
       "HBox(children=(IntSlider(value=-5, description='Start: ', max=5, min=-5), IntSlider(value=5, description='End:…"
      ]
     },
     "metadata": {},
     "output_type": "display_data"
    },
    {
     "data": {
      "application/vnd.jupyter.widget-view+json": {
       "model_id": "7b6b2582ea80468d8758efc360a61491",
       "version_major": 2,
       "version_minor": 0
      },
      "text/plain": [
       "Output()"
      ]
     },
     "metadata": {},
     "output_type": "display_data"
    }
   ],
   "source": [
    "start = widgets.IntSlider(value=-5, min=-5, max=5, description='Start: ')\n",
    "end = widgets.IntSlider(value=5, min=-5, max=5, description='End: ')\n",
    "num_slices = widgets.IntSlider(value = 5, min=1, max=100, description='# Slices: ')\n",
    "ui = widgets.HBox([start, end, num_slices])\n",
    "\n",
    "plot_rectangle_rule_mid_bound = partial(plot_rectangle_rule_mid, f)\n",
    "out = widgets.interactive_output(plot_rectangle_rule_mid_bound, {'start': start, 'end': end, 'num_slices': num_slices})\n",
    "display(ui, out)"
   ]
  },
  {
   "cell_type": "markdown",
   "id": "3d68b6a7-64f4-414d-857d-cd2e4eac05c5",
   "metadata": {},
   "source": [
    "<h3>c) Rectangle Rule Right</h3>"
   ]
  },
  {
   "cell_type": "code",
   "execution_count": 5,
   "id": "2d7001f6-3f62-4e57-9ec2-91e04655eaa4",
   "metadata": {},
   "outputs": [
    {
     "data": {
      "application/vnd.jupyter.widget-view+json": {
       "model_id": "f9f7ac7ad2b4445587a17c8551f254af",
       "version_major": 2,
       "version_minor": 0
      },
      "text/plain": [
       "HBox(children=(IntSlider(value=-5, description='Start: ', max=5, min=-5), IntSlider(value=5, description='End:…"
      ]
     },
     "metadata": {},
     "output_type": "display_data"
    },
    {
     "data": {
      "application/vnd.jupyter.widget-view+json": {
       "model_id": "5ea33881ee89472cbdfa4ff01ab29679",
       "version_major": 2,
       "version_minor": 0
      },
      "text/plain": [
       "Output()"
      ]
     },
     "metadata": {},
     "output_type": "display_data"
    }
   ],
   "source": [
    "start = widgets.IntSlider(value=-5, min=-5, max=5, description='Start: ')\n",
    "end = widgets.IntSlider(value=5, min=-5, max=5, description='End: ')\n",
    "num_slices = widgets.IntSlider(value = 5, min=1, max=100, description='# Slices: ')\n",
    "ui = widgets.HBox([start, end, num_slices])\n",
    "\n",
    "plot_rectangle_rule_end_bound = partial(plot_rectangle_rule_end, f)\n",
    "out = widgets.interactive_output(plot_rectangle_rule_end_bound, {'start': start, 'end': end, 'num_slices': num_slices})\n",
    "display(ui, out)"
   ]
  },
  {
   "cell_type": "markdown",
   "id": "c2dac911-8501-46f6-b470-bc3365523f0e",
   "metadata": {
    "tags": []
   },
   "source": [
    "<h2>2. Trapezoidal Rule (= A Closed Newton-Cotes formula)</h2>"
   ]
  },
  {
   "cell_type": "markdown",
   "id": "d7c33e1f-3422-49d8-a091-fc49db50be6c",
   "metadata": {},
   "source": [
    "The trapezoidal rule works by approximating the region under the graph of the function $f(x)$ as a trapezoid and calculating its area. It follows that $\\int _{a}^{b}f(x)\\,dx\\approx (b-a)\\cdot {\\tfrac {1}{2}}(f(a)+f(b))$. The trapezoidal rule may be viewed as the result obtained by averaging the left and right Riemann sums, and is sometimes defined this way. The integral can be even better approximated by partitioning the integration interval, applying the trapezoidal rule to each subinterval, and summing the results. In practice, this \"chained\" (or \"composite\") trapezoidal rule is usually what is meant by \"integrating with the trapezoidal rule\". Let $\\{x\\}$ be a partition of $[a,b]$ such that $a=x_{0}<x_{1}<\\cdots<x_{N-1}<x_{N}=b$ and $\\Delta x_{k}$ be the length of the $k$-th subinterval (that is, $\\Delta x_{k}=x_{k}-x_{k-1}$), then\n",
    "\n",
    "\n",
    "$\\int _{a}^{b}f(x)\\,dx\\approx \\sum _{k=1}^{N}{\\frac {f(x_{k-1})+f(x_{k})}{2}}\\Delta x_{k}$.\n",
    "\n",
    "When the partition has a regular spacing, as is often the case, that is, when all the $\\Delta x_{k}$ have the same value $\\Delta x$, the formula can be simplified for calculation efficiency by factoring $\\Delta x$ out:\n",
    "\n",
    "$\\int _{a}^{b}f(x)\\,dx\\approx {\\frac {\\Delta x}{2}}\\left(f(x_{0})+2f(x_{1})+2f(x_{2})+2f(x_{3})+2f(x_{4})+\\cdots +2f(x_{N-1})+f(x_{N})\\right)$.\n",
    "\n",
    "Additionally, by renaming $h = \\Delta x$ we get to:\n",
    "\n",
    "$\\int _{a}^{b}f(x)\\,dx\\approx {\\frac {h}{2}}\\left(f(x_{0})+2f(x_{1})+2f(x_{2})+2f(x_{3})+2f(x_{4})+\\cdots +2f(x_{N-1})+f(x_{N})\\right)$."
   ]
  },
  {
   "cell_type": "code",
   "execution_count": 6,
   "id": "59daddb2-cb2e-424e-96d1-78f8ac948d3b",
   "metadata": {},
   "outputs": [
    {
     "data": {
      "application/vnd.jupyter.widget-view+json": {
       "model_id": "8dce04903241432784ea867e67a4813d",
       "version_major": 2,
       "version_minor": 0
      },
      "text/plain": [
       "HBox(children=(IntSlider(value=-5, description='Start: ', max=5, min=-5), IntSlider(value=5, description='End:…"
      ]
     },
     "metadata": {},
     "output_type": "display_data"
    },
    {
     "data": {
      "application/vnd.jupyter.widget-view+json": {
       "model_id": "a849614d832d41379a35cef22985d877",
       "version_major": 2,
       "version_minor": 0
      },
      "text/plain": [
       "Output()"
      ]
     },
     "metadata": {},
     "output_type": "display_data"
    }
   ],
   "source": [
    "start = widgets.IntSlider(value=-5, min=-5, max=5, description='Start: ')\n",
    "end = widgets.IntSlider(value=5, min=-5, max=5, description='End: ')\n",
    "num_slices = widgets.IntSlider(value = 5, min=1, max=100, description='# Slices: ')\n",
    "ui = widgets.HBox([start, end, num_slices])\n",
    "\n",
    "plot_trapezoidal_rule_bound = partial(plot_trapezoidal_rule, f)\n",
    "out = widgets.interactive_output(plot_trapezoidal_rule_bound, {'start': start, 'end': end, 'num_slices': num_slices})\n",
    "display(ui, out)"
   ]
  },
  {
   "cell_type": "markdown",
   "id": "2dc0965c-4dd1-4fc3-81e5-55836acb70cd",
   "metadata": {},
   "source": [
    "<h2>3. Simpson's Rule (=Keplersche Fassregel)</h2>"
   ]
  },
  {
   "cell_type": "markdown",
   "id": "22d1fddf-cc32-44fb-af54-e2eb0ed7edea",
   "metadata": {},
   "source": [
    "Simpson's rule is named after Thomas Simpson (1710-1761). In German and other languages it is named after Johannes Kepler, who derived it in 1615 after seeing it used for wine barrels (Kepplersche Fassregel). Actually there are two Simpson's rules (in fact even three):\n",
    "<ul>\n",
    "    <li>Simpson's 1/3 rule: $\\int _{a}^{b}f(x)\\,dx\\approx{\\frac {h}{3}}\\left[f(a)+4f\\left({\\frac {a+b}{2}}\\right)+f(b)\\right]$, where $h=\\frac{b-a}{2}$</li>\n",
    "    <li>Simpson's 3/8 rule: $\\int _{a}^{b}f(x)\\,dx\\approx{\\frac {3h}{8}}\\left[f(a)+3f\\left({\\frac {2a+b}{3}}\\right)+3f\\left({\\frac {a+2b}{3}}\\right)+f(b)\\right]$, where $h=\\frac{b-a}{3}$</li>\n",
    "</ul>\n",
    "Both rules are Closed Newton-Cotes formulas and utilizer quadratic and cubic interpolation respectively. A further generalization of this concept of interpolation with arbitrary-degree polynomials are the Newton-Cotes formulas."
   ]
  },
  {
   "cell_type": "code",
   "execution_count": 7,
   "id": "d4f8e999-bb9c-4e2c-a688-732336a3c975",
   "metadata": {},
   "outputs": [
    {
     "data": {
      "application/vnd.jupyter.widget-view+json": {
       "model_id": "dddbb7f7fe5e45c3a75f2e3f9cb26e8a",
       "version_major": 2,
       "version_minor": 0
      },
      "text/plain": [
       "HBox(children=(IntSlider(value=-5, description='Start: ', max=5, min=-5), IntSlider(value=5, description='End:…"
      ]
     },
     "metadata": {},
     "output_type": "display_data"
    },
    {
     "data": {
      "application/vnd.jupyter.widget-view+json": {
       "model_id": "70c0f9a26b274646979e3ce97becfa0d",
       "version_major": 2,
       "version_minor": 0
      },
      "text/plain": [
       "Output()"
      ]
     },
     "metadata": {},
     "output_type": "display_data"
    }
   ],
   "source": [
    "start = widgets.IntSlider(value=-5, min=-5, max=5, description='Start: ')\n",
    "end = widgets.IntSlider(value=5, min=-5, max=5, description='End: ')\n",
    "num_slices = widgets.IntSlider(value = 5, min=1, max=100, description='# Slices: ')\n",
    "ui = widgets.HBox([start, end, num_slices])\n",
    "\n",
    "plot_barrel_rule_bound = partial(plot_barrel_rule, f)\n",
    "out = widgets.interactive_output(plot_barrel_rule_bound, {'start': start, 'end': end, 'num_slices': num_slices})\n",
    "display(ui, out)"
   ]
  }
 ],
 "metadata": {
  "kernelspec": {
   "display_name": "Python 3 (ipykernel)",
   "language": "python",
   "name": "python3"
  },
  "language_info": {
   "codemirror_mode": {
    "name": "ipython",
    "version": 3
   },
   "file_extension": ".py",
   "mimetype": "text/x-python",
   "name": "python",
   "nbconvert_exporter": "python",
   "pygments_lexer": "ipython3",
   "version": "3.9.5"
  }
 },
 "nbformat": 4,
 "nbformat_minor": 5
}
