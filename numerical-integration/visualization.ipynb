{
 "cells": [
  {
   "cell_type": "code",
   "execution_count": 1,
   "id": "5ff4bffa-0463-46e4-9140-a6b24a5f07f3",
   "metadata": {},
   "outputs": [],
   "source": [
    "from visualization import *\n",
    "from ipywidgets import interact, interactive, fixed, interact_manual\n",
    "import ipywidgets as widgets\n",
    "from ipywidgets import interact"
   ]
  },
  {
   "cell_type": "markdown",
   "id": "3cdaca02-04d7-476d-bb59-f14e1c71cba5",
   "metadata": {},
   "source": [
    "1. Rectangle Rule Start"
   ]
  },
  {
   "cell_type": "code",
   "execution_count": 2,
   "id": "d3aaf2d7-1e60-4364-bfd0-94a0d8c1f7d9",
   "metadata": {},
   "outputs": [
    {
     "data": {
      "application/vnd.jupyter.widget-view+json": {
       "model_id": "931581d3f4604aa5a74ce9d884166216",
       "version_major": 2,
       "version_minor": 0
      },
      "text/plain": [
       "HBox(children=(IntSlider(value=-5, description='Start: ', max=5, min=-5), IntSlider(value=5, description='End:…"
      ]
     },
     "metadata": {},
     "output_type": "display_data"
    },
    {
     "data": {
      "application/vnd.jupyter.widget-view+json": {
       "model_id": "79b3229c6c144828bdb4cf104ed3a26f",
       "version_major": 2,
       "version_minor": 0
      },
      "text/plain": [
       "Output()"
      ]
     },
     "metadata": {},
     "output_type": "display_data"
    }
   ],
   "source": [
    "start = widgets.IntSlider(value=-5, min=-5, max=5, description='Start: ')\n",
    "end = widgets.IntSlider(value=5, min=-5, max=5, description='End: ')\n",
    "num_slices = widgets.IntSlider(value = 5, min=1, max=100, description='# Slices: ')\n",
    "ui = widgets.HBox([start, end, num_slices])\n",
    "\n",
    "out = widgets.interactive_output(plot_rectangle_rule_start, {'start': start, 'end': end, 'num_slices': num_slices})\n",
    "display(ui, out)"
   ]
  },
  {
   "cell_type": "markdown",
   "id": "58854a32-b826-467c-a73d-88b7ad7f1b5b",
   "metadata": {},
   "source": [
    "2. Rectangle Rule Mid"
   ]
  },
  {
   "cell_type": "code",
   "execution_count": 3,
   "id": "d53c6c57-496e-4ef5-bc18-51ffad96bdde",
   "metadata": {},
   "outputs": [
    {
     "data": {
      "application/vnd.jupyter.widget-view+json": {
       "model_id": "1dfd846a6f7f4bc4a15f92904cc6e927",
       "version_major": 2,
       "version_minor": 0
      },
      "text/plain": [
       "HBox(children=(IntSlider(value=-5, description='Start: ', max=5, min=-5), IntSlider(value=5, description='End:…"
      ]
     },
     "metadata": {},
     "output_type": "display_data"
    },
    {
     "data": {
      "application/vnd.jupyter.widget-view+json": {
       "model_id": "fb12909f79b14a7c96d4ceab0fab44e0",
       "version_major": 2,
       "version_minor": 0
      },
      "text/plain": [
       "Output()"
      ]
     },
     "metadata": {},
     "output_type": "display_data"
    }
   ],
   "source": [
    "start = widgets.IntSlider(value=-5, min=-5, max=5, description='Start: ')\n",
    "end = widgets.IntSlider(value=5, min=-5, max=5, description='End: ')\n",
    "num_slices = widgets.IntSlider(value = 5, min=1, max=100, description='# Slices: ')\n",
    "ui = widgets.HBox([start, end, num_slices])\n",
    "\n",
    "out = widgets.interactive_output(plot_rectangle_rule_mid, {'start': start, 'end': end, 'num_slices': num_slices})\n",
    "display(ui, out)"
   ]
  },
  {
   "cell_type": "markdown",
   "id": "3d68b6a7-64f4-414d-857d-cd2e4eac05c5",
   "metadata": {},
   "source": [
    "3. Rectangle Rule End"
   ]
  },
  {
   "cell_type": "code",
   "execution_count": 4,
   "id": "2d7001f6-3f62-4e57-9ec2-91e04655eaa4",
   "metadata": {},
   "outputs": [
    {
     "data": {
      "application/vnd.jupyter.widget-view+json": {
       "model_id": "9e898f4ac61549ab977ec68c2197c423",
       "version_major": 2,
       "version_minor": 0
      },
      "text/plain": [
       "HBox(children=(IntSlider(value=-5, description='Start: ', max=5, min=-5), IntSlider(value=5, description='End:…"
      ]
     },
     "metadata": {},
     "output_type": "display_data"
    },
    {
     "data": {
      "application/vnd.jupyter.widget-view+json": {
       "model_id": "0a891d8c5ae1485a9643eeea2f5c0e00",
       "version_major": 2,
       "version_minor": 0
      },
      "text/plain": [
       "Output()"
      ]
     },
     "metadata": {},
     "output_type": "display_data"
    }
   ],
   "source": [
    "start = widgets.IntSlider(value=-5, min=-5, max=5, description='Start: ')\n",
    "end = widgets.IntSlider(value=5, min=-5, max=5, description='End: ')\n",
    "num_slices = widgets.IntSlider(value = 5, min=1, max=100, description='# Slices: ')\n",
    "ui = widgets.HBox([start, end, num_slices])\n",
    "\n",
    "out = widgets.interactive_output(plot_rectangle_rule_end, {'start': start, 'end': end, 'num_slices': num_slices})\n",
    "display(ui, out)"
   ]
  },
  {
   "cell_type": "markdown",
   "id": "c2dac911-8501-46f6-b470-bc3365523f0e",
   "metadata": {
    "tags": []
   },
   "source": [
    "4. Trapezoid Rule"
   ]
  },
  {
   "cell_type": "code",
   "execution_count": 5,
   "id": "59daddb2-cb2e-424e-96d1-78f8ac948d3b",
   "metadata": {},
   "outputs": [
    {
     "data": {
      "application/vnd.jupyter.widget-view+json": {
       "model_id": "c3f7d8c591e24fed8bc30b7cfec79afd",
       "version_major": 2,
       "version_minor": 0
      },
      "text/plain": [
       "HBox(children=(IntSlider(value=-5, description='Start: ', max=5, min=-5), IntSlider(value=5, description='End:…"
      ]
     },
     "metadata": {},
     "output_type": "display_data"
    },
    {
     "data": {
      "application/vnd.jupyter.widget-view+json": {
       "model_id": "0e62df73f13943a48d442192a1ea0787",
       "version_major": 2,
       "version_minor": 0
      },
      "text/plain": [
       "Output()"
      ]
     },
     "metadata": {},
     "output_type": "display_data"
    }
   ],
   "source": [
    "start = widgets.IntSlider(value=-5, min=-5, max=5, description='Start: ')\n",
    "end = widgets.IntSlider(value=5, min=-5, max=5, description='End: ')\n",
    "num_slices = widgets.IntSlider(value = 5, min=1, max=100, description='# Slices: ')\n",
    "ui = widgets.HBox([start, end, num_slices])\n",
    "\n",
    "out = widgets.interactive_output(plot_trapezoidal_rule, {'start': start, 'end': end, 'num_slices': num_slices})\n",
    "display(ui, out)"
   ]
  },
  {
   "cell_type": "markdown",
   "id": "2dc0965c-4dd1-4fc3-81e5-55836acb70cd",
   "metadata": {},
   "source": [
    "5. Barrel Rule"
   ]
  },
  {
   "cell_type": "code",
   "execution_count": 6,
   "id": "d4f8e999-bb9c-4e2c-a688-732336a3c975",
   "metadata": {},
   "outputs": [
    {
     "data": {
      "application/vnd.jupyter.widget-view+json": {
       "model_id": "567f2f7538b94a1e8058bb2204e60a83",
       "version_major": 2,
       "version_minor": 0
      },
      "text/plain": [
       "HBox(children=(IntSlider(value=-5, description='Start: ', max=5, min=-5), IntSlider(value=5, description='End:…"
      ]
     },
     "metadata": {},
     "output_type": "display_data"
    },
    {
     "data": {
      "application/vnd.jupyter.widget-view+json": {
       "model_id": "367d1007ba5d4f13b36a713e24643d45",
       "version_major": 2,
       "version_minor": 0
      },
      "text/plain": [
       "Output()"
      ]
     },
     "metadata": {},
     "output_type": "display_data"
    }
   ],
   "source": [
    "start = widgets.IntSlider(value=-5, min=-5, max=5, description='Start: ')\n",
    "end = widgets.IntSlider(value=5, min=-5, max=5, description='End: ')\n",
    "num_slices = widgets.IntSlider(value = 5, min=1, max=100, description='# Slices: ')\n",
    "ui = widgets.HBox([start, end, num_slices])\n",
    "\n",
    "out = widgets.interactive_output(plot_barrel_rule, {'start': start, 'end': end, 'num_slices': num_slices})\n",
    "display(ui, out)"
   ]
  }
 ],
 "metadata": {
  "kernelspec": {
   "display_name": "Python 3 (ipykernel)",
   "language": "python",
   "name": "python3"
  },
  "language_info": {
   "codemirror_mode": {
    "name": "ipython",
    "version": 3
   },
   "file_extension": ".py",
   "mimetype": "text/x-python",
   "name": "python",
   "nbconvert_exporter": "python",
   "pygments_lexer": "ipython3",
   "version": "3.9.5"
  }
 },
 "nbformat": 4,
 "nbformat_minor": 5
}
