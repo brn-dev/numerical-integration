{
 "cells": [
  {
   "cell_type": "code",
   "execution_count": 1,
   "id": "5ff4bffa-0463-46e4-9140-a6b24a5f07f3",
   "metadata": {},
   "outputs": [],
   "source": [
    "from visualization import *\n",
    "from ipywidgets import interact, interactive, fixed, interact_manual\n",
    "import ipywidgets as widgets\n",
    "from ipywidgets import interact\n",
    "from functools import partial\n",
    "import numpy as np"
   ]
  },
  {
   "cell_type": "markdown",
   "id": "bc66ab61-44be-46de-bfb3-73a930bf6694",
   "metadata": {
    "tags": []
   },
   "source": [
    "<h1>Numerical integration in 1D</h1>"
   ]
  },
  {
   "cell_type": "markdown",
   "id": "b1417fad-5d58-4731-9b22-d8dd376bec65",
   "metadata": {},
   "source": [
    "For a given function $f:\\mathbb{R} \\rightarrow \\mathbb{R}$ and an interval (a,b) $\\subset \\mathbb{R}$, compute an approximation of $\\int_{b}^{a}f(x) \\, \\text{d}x$ using various rules:"
   ]
  },
  {
   "cell_type": "markdown",
   "id": "69754a28-1752-43dd-991a-48e84c161765",
   "metadata": {
    "tags": []
   },
   "source": [
    "<h2>Newton-Cotes formulas and the connection to Lagrange polynomials</h2>"
   ]
  },
  {
   "cell_type": "markdown",
   "id": "f1d29e9e-a45a-4a45-bc99-667883ee16b9",
   "metadata": {},
   "source": [
    "<h3>Newton-Cotes formulas:</h3>"
   ]
  },
  {
   "cell_type": "markdown",
   "id": "4def34ec-b7e9-41ac-923f-72cc2523b207",
   "metadata": {},
   "source": [
    "To establish this connection, we should first understand how various rules to approximate integrals are related to Newton-Cotes formulas. Newton-Cotes formulas are named after Isaac Newton and Roger Cotes and are a group of formulas used for numerical integration based on evaluating the integrand at equally spaced points. Assume the value of a function is known at $n+1$ equally spaced points: $a\\leq x_0 < x_1 < \\dots < x_n \\leq b$. Then the integral can be approximated: $\\int _{a}^{b}f(x)\\,dx\\approx \\sum _{{i=0}}^{n}w_{i}\\,f(x_{i})$, where $w_i$ are called weights which can be computed as the integral of Lagrange basis polynomials. They depend only on $x_i$ and not on the function $f$. There are two types of Newton-Cotes formulas:\n",
    "<ul>\n",
    "    <li>Closed Newton-Cotes formulas: the function values at the endpoints are used, $x_0=a$ and $x_n=b$</li>\n",
    "    <li>Open Newton-Cotes formulas: the function values at the endpoints are not used, $x_0 > a$ and $x_n < b$</li>\n",
    "</ul>\n",
    "In order to approximate the integral one uses polynomials, in fact Lagrange polynomials. "
   ]
  },
  {
   "cell_type": "markdown",
   "id": "52ed78c1-5fa9-4974-9747-f16556e3d915",
   "metadata": {
    "tags": []
   },
   "source": [
    "<h3>Lagrange Polynomials:</h3>"
   ]
  },
  {
   "cell_type": "markdown",
   "id": "c2c35a0e-ed82-4e12-bc18-be900bee9f54",
   "metadata": {},
   "source": [
    "Lagrange Polynomials are polynomials $P(x)$ of degree $\\leq (n-1)$ that pass through n points $(x_1, y_1=f(x_1), x_2, y_2=f(x_2),\\dots, x_n, y_n=f(x_n))$ and is given by $P(x)=\\sum_{j=1}^{n}P_j(x)$, where $P_j(x)= y_j \\cdot \\prod_{k=1,k\\neq j}^{n} \\frac{x-x_k}{x_j-x_k}$. Thus, one uses lagrange polynomials to predict an underlying function where only certain function values are known. When constructing interpolating polynomials, there is a trade off between fit and smooth well-behaved fitting function. Higher degree interpolatin may be a poor predictor of the function between points, although the accuracy at the data points will be perfect. In the upcomming sections one can see that for each method of approximating integrals lagrange polynomials of certain degrees are being used."
   ]
  },
  {
   "cell_type": "markdown",
   "id": "02704ea8-7dee-4f15-84fc-c905ed52b918",
   "metadata": {
    "tags": []
   },
   "source": [
    "<h3>Function used for approximation:</h3>"
   ]
  },
  {
   "cell_type": "code",
   "execution_count": 7,
   "id": "642e165b-44e0-49e5-9b7c-5d80c77a2973",
   "metadata": {},
   "outputs": [
    {
     "name": "stdin",
     "output_type": "stream",
     "text": [
      "Enter function with parameter \"x\":  np.sin(2*x)\n"
     ]
    }
   ],
   "source": [
    "function_str = input('Enter function with parameter \"x\": ')\n",
    "\n",
    "def f(x):\n",
    "    \"\"\"Function used for integration. If a specific function like a trigonometric one is desired, please use np.func.\"\"\"\n",
    "    return eval(function_str)"
   ]
  },
  {
   "cell_type": "markdown",
   "id": "3e275dfe-09e5-445b-9e58-8892d6661f70",
   "metadata": {
    "tags": []
   },
   "source": [
    "<h2>1. Rectangle Rule</h2>"
   ]
  },
  {
   "cell_type": "markdown",
   "id": "562c4831-a99b-4123-9fac-bf70fdb46bf9",
   "metadata": {},
   "source": [
    "The rectangular rule is perhaps the simplest of the three methods for estimating an integral you will see in this presentation. Let $f : [a, b] \\rightarrow \\mathbb {R}$. The rectangle method utilizes the Riemann integral definition to calculate an approximate estimate for the area under the curve by drawing many rectangles with very small width adjacent to each other between the graph of the function $f$ and the $x$ axis. Let $n$ be the number of intervals with $a=x_0 < x_1 < x_2 < \\cdots < x_n=b$ and constant spacing $h=x_{i+1}-x_i$. The rectangle method can be implemented in one of the following three ways: \n",
    "<ul>\n",
    "    <li>Rectangle rule Left: $\\int_{a}^b\\!f(x)\\,\\mathrm{d}x\\approx h\\sum_{i=1}^{n}f(x_{i-1})$</li>\n",
    "    <li>Rectangle rule Mid: $\\int_{a}^b\\!f(x)\\,\\mathrm{d}x\\approx h\\sum_{i=1}^{n}f\\left(\\frac{x_{i-1}+x_{i}}{2}\\right)$</li>\n",
    "    <li>Rectangle rule Right: $\\int_{a}^b\\!f(x)\\,\\mathrm{d}x\\approx h\\sum_{i=1}^{n}f(x_{i})$</li>\n",
    "</ul>\n",
    "The following visualizations give an idea on how these rules work and how they approximate an integral."
   ]
  },
  {
   "cell_type": "markdown",
   "id": "3cdaca02-04d7-476d-bb59-f14e1c71cba5",
   "metadata": {
    "tags": []
   },
   "source": [
    "<h3>a) Rectangle Rule Left</h3>"
   ]
  },
  {
   "cell_type": "code",
   "execution_count": 7,
   "id": "d3aaf2d7-1e60-4364-bfd0-94a0d8c1f7d9",
   "metadata": {},
   "outputs": [
    {
     "data": {
      "application/vnd.jupyter.widget-view+json": {
       "model_id": "89491ff1457a486aa13cea27010a0632",
       "version_major": 2,
       "version_minor": 0
      },
      "text/plain": [
       "HBox(children=(IntSlider(value=-5, description='Start: ', max=5, min=-5), IntSlider(value=5, description='End:…"
      ]
     },
     "metadata": {},
     "output_type": "display_data"
    },
    {
     "data": {
      "application/vnd.jupyter.widget-view+json": {
       "model_id": "ad11ad248cc74150b463561ef736b498",
       "version_major": 2,
       "version_minor": 0
      },
      "text/plain": [
       "Output()"
      ]
     },
     "metadata": {},
     "output_type": "display_data"
    }
   ],
   "source": [
    "start = widgets.IntSlider(value=-5, min=-5, max=5, description='Start: ')\n",
    "end = widgets.IntSlider(value=5, min=-5, max=5, description='End: ')\n",
    "num_slices = widgets.IntSlider(value = 5, min=1, max=100, description='# Slices: ')\n",
    "ui = widgets.HBox([start, end, num_slices])\n",
    "\n",
    "plot_rectangle_rule_start_bound = partial(plot_rectangle_rule_start, f)\n",
    "out = widgets.interactive_output(plot_rectangle_rule_start_bound, {'start': start, 'end': end, 'num_slices': num_slices})\n",
    "display(ui, out)"
   ]
  },
  {
   "cell_type": "markdown",
   "id": "58854a32-b826-467c-a73d-88b7ad7f1b5b",
   "metadata": {},
   "source": [
    "<h3>b) Rectangle Rule Mid (=Midpoint rule and also an Open Newton-Cotes formula)</h3>"
   ]
  },
  {
   "cell_type": "code",
   "execution_count": 4,
   "id": "d53c6c57-496e-4ef5-bc18-51ffad96bdde",
   "metadata": {},
   "outputs": [
    {
     "data": {
      "application/vnd.jupyter.widget-view+json": {
       "model_id": "afb6b9e546524eee839e6eca27d82f7b",
       "version_major": 2,
       "version_minor": 0
      },
      "text/plain": [
       "HBox(children=(IntSlider(value=-5, description='Start: ', max=5, min=-5), IntSlider(value=5, description='End:…"
      ]
     },
     "metadata": {},
     "output_type": "display_data"
    },
    {
     "data": {
      "application/vnd.jupyter.widget-view+json": {
       "model_id": "13618f2da8f641c590058aaf16f532dd",
       "version_major": 2,
       "version_minor": 0
      },
      "text/plain": [
       "Output()"
      ]
     },
     "metadata": {},
     "output_type": "display_data"
    }
   ],
   "source": [
    "start = widgets.IntSlider(value=-5, min=-5, max=5, description='Start: ')\n",
    "end = widgets.IntSlider(value=5, min=-5, max=5, description='End: ')\n",
    "num_slices = widgets.IntSlider(value = 5, min=1, max=100, description='# Slices: ')\n",
    "ui = widgets.HBox([start, end, num_slices])\n",
    "\n",
    "plot_rectangle_rule_mid_bound = partial(plot_rectangle_rule_mid, f)\n",
    "out = widgets.interactive_output(plot_rectangle_rule_mid_bound, {'start': start, 'end': end, 'num_slices': num_slices})\n",
    "display(ui, out)"
   ]
  },
  {
   "cell_type": "markdown",
   "id": "3d68b6a7-64f4-414d-857d-cd2e4eac05c5",
   "metadata": {},
   "source": [
    "<h3>c) Rectangle Rule Right</h3>"
   ]
  },
  {
   "cell_type": "code",
   "execution_count": 5,
   "id": "2d7001f6-3f62-4e57-9ec2-91e04655eaa4",
   "metadata": {},
   "outputs": [
    {
     "data": {
      "application/vnd.jupyter.widget-view+json": {
       "model_id": "a7fa4703c5c04601bfa4922fc0fe600c",
       "version_major": 2,
       "version_minor": 0
      },
      "text/plain": [
       "HBox(children=(IntSlider(value=-5, description='Start: ', max=5, min=-5), IntSlider(value=5, description='End:…"
      ]
     },
     "metadata": {},
     "output_type": "display_data"
    },
    {
     "data": {
      "application/vnd.jupyter.widget-view+json": {
       "model_id": "4ad0f52a2e224be2ad284c1a1dc4e0e4",
       "version_major": 2,
       "version_minor": 0
      },
      "text/plain": [
       "Output()"
      ]
     },
     "metadata": {},
     "output_type": "display_data"
    }
   ],
   "source": [
    "start = widgets.IntSlider(value=-5, min=-5, max=5, description='Start: ')\n",
    "end = widgets.IntSlider(value=5, min=-5, max=5, description='End: ')\n",
    "num_slices = widgets.IntSlider(value = 5, min=1, max=100, description='# Slices: ')\n",
    "ui = widgets.HBox([start, end, num_slices])\n",
    "\n",
    "plot_rectangle_rule_end_bound = partial(plot_rectangle_rule_end, f)\n",
    "out = widgets.interactive_output(plot_rectangle_rule_end_bound, {'start': start, 'end': end, 'num_slices': num_slices})\n",
    "display(ui, out)"
   ]
  },
  {
   "cell_type": "markdown",
   "id": "c2dac911-8501-46f6-b470-bc3365523f0e",
   "metadata": {
    "tags": []
   },
   "source": [
    "<h2>2. Trapezoidal Rule (= A Closed Newton-Cotes formula)</h2>"
   ]
  },
  {
   "cell_type": "markdown",
   "id": "d7c33e1f-3422-49d8-a091-fc49db50be6c",
   "metadata": {},
   "source": [
    "The trapezoidal rule works by approximating the region under the graph of the function $f(x)$ as a trapezoid and calculating its area. It follows that $\\int _{a}^{b}f(x)\\,dx\\approx (b-a)\\cdot {\\tfrac {1}{2}}(f(a)+f(b))$. The trapezoidal rule may be viewed as the result obtained by averaging the left and right Riemann sums, and is sometimes defined this way. The integral can be even better approximated by partitioning the integration interval, applying the trapezoidal rule to each subinterval, and summing the results. In practice, this \"chained\" (or \"composite\") trapezoidal rule is usually what is meant by \"integrating with the trapezoidal rule\". Let $\\{x\\}$ be a partition of $[a,b]$ such that $a=x_{0}<x_{1}<\\cdots<x_{N-1}<x_{N}=b$ and $\\Delta x_{k}$ be the length of the $k$-th subinterval (that is, $\\Delta x_{k}=x_{k}-x_{k-1}$), then\n",
    "\n",
    "\n",
    "$\\int _{a}^{b}f(x)\\,dx\\approx \\sum _{k=1}^{N}{\\frac {f(x_{k-1})+f(x_{k})}{2}}\\Delta x_{k}$.\n",
    "\n",
    "When the partition has a regular spacing, as is often the case, that is, when all the $\\Delta x_{k}$ have the same value $\\Delta x$, the formula can be simplified for calculation efficiency by factoring $\\Delta x$ out:\n",
    "\n",
    "$\\int _{a}^{b}f(x)\\,dx\\approx {\\frac {\\Delta x}{2}}\\left(f(x_{0})+2f(x_{1})+2f(x_{2})+2f(x_{3})+2f(x_{4})+\\cdots +2f(x_{N-1})+f(x_{N})\\right)$.\n",
    "\n",
    "Additionally, by renaming $h = \\Delta x$ we get to:\n",
    "\n",
    "$\\int _{a}^{b}f(x)\\,dx\\approx {\\frac {h}{2}}\\left(f(x_{0})+2f(x_{1})+2f(x_{2})+2f(x_{3})+2f(x_{4})+\\cdots +2f(x_{N-1})+f(x_{N})\\right)$."
   ]
  },
  {
   "cell_type": "code",
   "execution_count": 4,
   "id": "59daddb2-cb2e-424e-96d1-78f8ac948d3b",
   "metadata": {},
   "outputs": [
    {
     "data": {
      "application/vnd.jupyter.widget-view+json": {
       "model_id": "8f972853b2d14cdc8b0680c71899f39d",
       "version_major": 2,
       "version_minor": 0
      },
      "text/plain": [
       "HBox(children=(IntSlider(value=-5, description='Start: ', max=5, min=-5), IntSlider(value=5, description='End:…"
      ]
     },
     "metadata": {},
     "output_type": "display_data"
    },
    {
     "data": {
      "application/vnd.jupyter.widget-view+json": {
       "model_id": "6cfeff76048e400396c1371f6e90bf12",
       "version_major": 2,
       "version_minor": 0
      },
      "text/plain": [
       "Output()"
      ]
     },
     "metadata": {},
     "output_type": "display_data"
    }
   ],
   "source": [
    "start = widgets.IntSlider(value=-5, min=-5, max=5, description='Start: ')\n",
    "end = widgets.IntSlider(value=5, min=-5, max=5, description='End: ')\n",
    "num_slices = widgets.IntSlider(value = 5, min=1, max=100, description='# Slices: ')\n",
    "ui = widgets.HBox([start, end, num_slices])\n",
    "\n",
    "plot_trapezoidal_rule_bound = partial(plot_trapezoidal_rule, f)\n",
    "out = widgets.interactive_output(plot_trapezoidal_rule_bound, {'start': start, 'end': end, 'num_slices': num_slices})\n",
    "display(ui, out)"
   ]
  },
  {
   "cell_type": "markdown",
   "id": "2dc0965c-4dd1-4fc3-81e5-55836acb70cd",
   "metadata": {},
   "source": [
    "<h2>3. Simpson's Rule (=Keplersche Fassregel)</h2>"
   ]
  },
  {
   "cell_type": "markdown",
   "id": "22d1fddf-cc32-44fb-af54-e2eb0ed7edea",
   "metadata": {},
   "source": [
    "Simpson's rule is named after Thomas Simpson (1710-1761). In German and other languages it is named after Johannes Kepler, who derived it in 1615 after seeing it used for wine barrels (Kepplersche Fassregel). Actually there are two Simpson's rules (in fact even three):\n",
    "<ul>\n",
    "    <li>Simpson's 1/3 rule: $\\int _{a}^{b}f(x)\\,dx\\approx{\\frac {h}{3}}\\left[f(a)+4f\\left({\\frac {a+b}{2}}\\right)+f(b)\\right]$, where $h=\\frac{b-a}{2}$</li>\n",
    "    <li>Simpson's 3/8 rule: $\\int _{a}^{b}f(x)\\,dx\\approx{\\frac {3h}{8}}\\left[f(a)+3f\\left({\\frac {2a+b}{3}}\\right)+3f\\left({\\frac {a+2b}{3}}\\right)+f(b)\\right]$, where $h=\\frac{b-a}{3}$</li>\n",
    "</ul>\n",
    "Both rules are Closed Newton-Cotes formulas and utilizer quadratic and cubic interpolation respectively. A further generalization of this concept of interpolation with arbitrary-degree polynomials are the Newton-Cotes formulas."
   ]
  },
  {
   "cell_type": "markdown",
   "id": "888a1c59-388b-405b-b8a5-548f87c991f3",
   "metadata": {},
   "source": [
    "<h3>a) Simpson's 1/3 rule</h3>"
   ]
  },
  {
   "cell_type": "code",
   "execution_count": 6,
   "id": "d4f8e999-bb9c-4e2c-a688-732336a3c975",
   "metadata": {},
   "outputs": [
    {
     "data": {
      "application/vnd.jupyter.widget-view+json": {
       "model_id": "87ed6618aa5244d091f39fffa46171a9",
       "version_major": 2,
       "version_minor": 0
      },
      "text/plain": [
       "HBox(children=(IntSlider(value=-5, description='Start: ', max=5, min=-5), IntSlider(value=5, description='End:…"
      ]
     },
     "metadata": {},
     "output_type": "display_data"
    },
    {
     "data": {
      "application/vnd.jupyter.widget-view+json": {
       "model_id": "adee37bd283340a1bc9493992ee381b4",
       "version_major": 2,
       "version_minor": 0
      },
      "text/plain": [
       "Output()"
      ]
     },
     "metadata": {},
     "output_type": "display_data"
    }
   ],
   "source": [
    "start = widgets.IntSlider(value=-5, min=-5, max=5, description='Start: ')\n",
    "end = widgets.IntSlider(value=5, min=-5, max=5, description='End: ')\n",
    "num_slices = widgets.IntSlider(value = 5, min=1, max=100, description='# Slices: ')\n",
    "ui = widgets.HBox([start, end, num_slices])\n",
    "\n",
    "plot_barrel_rule_bound = partial(plot_barrel_rule, f)\n",
    "out = widgets.interactive_output(plot_barrel_rule_bound, {'start': start, 'end': end, 'num_slices': num_slices})\n",
    "display(ui, out)"
   ]
  },
  {
   "cell_type": "markdown",
   "id": "312309c5-c414-4be7-b781-f48080bdc23b",
   "metadata": {},
   "source": [
    "<h3>b) Simpson's 3/8 rule</h3>"
   ]
  },
  {
   "cell_type": "code",
   "execution_count": 8,
   "id": "0be214e6-8c5e-4051-a359-791b441cb10c",
   "metadata": {},
   "outputs": [
    {
     "data": {
      "application/vnd.jupyter.widget-view+json": {
       "model_id": "d931dd02a38c44c595dd2baaaaa16665",
       "version_major": 2,
       "version_minor": 0
      },
      "text/plain": [
       "HBox(children=(IntSlider(value=-5, description='Start: ', max=5, min=-5), IntSlider(value=5, description='End:…"
      ]
     },
     "metadata": {},
     "output_type": "display_data"
    },
    {
     "data": {
      "application/vnd.jupyter.widget-view+json": {
       "model_id": "056a075d96ad446197154036ea526433",
       "version_major": 2,
       "version_minor": 0
      },
      "text/plain": [
       "Output()"
      ]
     },
     "metadata": {},
     "output_type": "display_data"
    }
   ],
   "source": [
    "start = widgets.IntSlider(value=-5, min=-5, max=5, description='Start: ')\n",
    "end = widgets.IntSlider(value=5, min=-5, max=5, description='End: ')\n",
    "num_slices = widgets.IntSlider(value = 5, min=1, max=100, description='# Slices: ')\n",
    "ui = widgets.HBox([start, end, num_slices])\n",
    "\n",
    "plot_barrel_rule_bound = partial(plot_barrel_rule_3_8, f)\n",
    "out = widgets.interactive_output(plot_barrel_rule_bound, {'start': start, 'end': end, 'num_slices': num_slices})\n",
    "display(ui, out)"
   ]
  }
 ],
 "metadata": {
  "kernelspec": {
   "display_name": "Python 3 (ipykernel)",
   "language": "python",
   "name": "python3"
  },
  "language_info": {
   "codemirror_mode": {
    "name": "ipython",
    "version": 3
   },
   "file_extension": ".py",
   "mimetype": "text/x-python",
   "name": "python",
   "nbconvert_exporter": "python",
   "pygments_lexer": "ipython3",
   "version": "3.9.13"
  }
 },
 "nbformat": 4,
 "nbformat_minor": 5
}