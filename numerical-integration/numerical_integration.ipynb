{
 "cells": [
  {
   "cell_type": "code",
   "execution_count": 1,
   "id": "5ff4bffa-0463-46e4-9140-a6b24a5f07f3",
   "metadata": {},
   "outputs": [],
   "source": [
    "from visualization import *\n",
    "from ipywidgets import interact, interactive, fixed, interact_manual\n",
    "import ipywidgets as widgets\n",
    "from ipywidgets import interact"
   ]
  },
  {
   "cell_type": "markdown",
   "id": "3cdaca02-04d7-476d-bb59-f14e1c71cba5",
   "metadata": {},
   "source": [
    "1. Rectangle Rule Start"
   ]
  },
  {
   "cell_type": "code",
   "execution_count": 2,
   "id": "d3aaf2d7-1e60-4364-bfd0-94a0d8c1f7d9",
   "metadata": {},
   "outputs": [
    {
     "data": {
      "application/vnd.jupyter.widget-view+json": {
       "model_id": "e32b547f44294ccf80b3e1fc077933ae",
       "version_major": 2,
       "version_minor": 0
      },
      "text/plain": [
       "HBox(children=(IntSlider(value=-5, max=5, min=-5), IntSlider(value=5, max=5, min=-5), IntSlider(value=5, min=1…"
      ]
     },
     "metadata": {},
     "output_type": "display_data"
    },
    {
     "data": {
      "application/vnd.jupyter.widget-view+json": {
       "model_id": "6001ac5f713246d482b710bc402d1cfa",
       "version_major": 2,
       "version_minor": 0
      },
      "text/plain": [
       "Output()"
      ]
     },
     "metadata": {},
     "output_type": "display_data"
    }
   ],
   "source": [
    "start = widgets.IntSlider(value=-5, min=-5, max=5)\n",
    "end = widgets.IntSlider(value=5, min=-5, max=5)\n",
    "num_slices = widgets.IntSlider(value = 5, min=1, max=100)\n",
    "ui = widgets.HBox([start, end, num_slices])\n",
    "\n",
    "out = widgets.interactive_output(plot_rectangle_rule_start, {'start': start, 'end': end, 'num_slices': num_slices})\n",
    "display(ui, out)"
   ]
  },
  {
   "cell_type": "markdown",
   "id": "58854a32-b826-467c-a73d-88b7ad7f1b5b",
   "metadata": {},
   "source": [
    "2. Rectangle Rule Mid"
   ]
  },
  {
   "cell_type": "code",
   "execution_count": 3,
   "id": "d53c6c57-496e-4ef5-bc18-51ffad96bdde",
   "metadata": {},
   "outputs": [
    {
     "data": {
      "application/vnd.jupyter.widget-view+json": {
       "model_id": "8f4e857c03ab4df3b0815ac04d177529",
       "version_major": 2,
       "version_minor": 0
      },
      "text/plain": [
       "HBox(children=(IntSlider(value=-5, max=5, min=-5), IntSlider(value=5, max=5, min=-5), IntSlider(value=5, min=1…"
      ]
     },
     "metadata": {},
     "output_type": "display_data"
    },
    {
     "data": {
      "application/vnd.jupyter.widget-view+json": {
       "model_id": "855622b4089f4ab6b45fc5ab683cb74d",
       "version_major": 2,
       "version_minor": 0
      },
      "text/plain": [
       "Output()"
      ]
     },
     "metadata": {},
     "output_type": "display_data"
    }
   ],
   "source": [
    "start = widgets.IntSlider(value=-5, min=-5, max=5)\n",
    "end = widgets.IntSlider(value=5, min=-5, max=5)\n",
    "num_slices = widgets.IntSlider(value = 5, min=1, max=100)\n",
    "ui = widgets.HBox([start, end, num_slices])\n",
    "\n",
    "out = widgets.interactive_output(plot_rectangle_rule_mid, {'start': start, 'end': end, 'num_slices': num_slices})\n",
    "display(ui, out)"
   ]
  },
  {
   "cell_type": "markdown",
   "id": "3d68b6a7-64f4-414d-857d-cd2e4eac05c5",
   "metadata": {},
   "source": [
    "3. Rectangle Rule End"
   ]
  },
  {
   "cell_type": "code",
   "execution_count": 4,
   "id": "2d7001f6-3f62-4e57-9ec2-91e04655eaa4",
   "metadata": {},
   "outputs": [
    {
     "data": {
      "application/vnd.jupyter.widget-view+json": {
       "model_id": "a5dcb20230dd48afac4b5b5dfec84db9",
       "version_major": 2,
       "version_minor": 0
      },
      "text/plain": [
       "HBox(children=(IntSlider(value=-5, max=5, min=-5), IntSlider(value=5, max=5, min=-5), IntSlider(value=5, min=1…"
      ]
     },
     "metadata": {},
     "output_type": "display_data"
    },
    {
     "data": {
      "application/vnd.jupyter.widget-view+json": {
       "model_id": "2ce1d445819a4d30b0a9b70c92149b8a",
       "version_major": 2,
       "version_minor": 0
      },
      "text/plain": [
       "Output()"
      ]
     },
     "metadata": {},
     "output_type": "display_data"
    }
   ],
   "source": [
    "start = widgets.IntSlider(value=-5, min=-5, max=5)\n",
    "end = widgets.IntSlider(value=5, min=-5, max=5)\n",
    "num_slices = widgets.IntSlider(value = 5, min=1, max=100)\n",
    "ui = widgets.HBox([start, end, num_slices])\n",
    "\n",
    "out = widgets.interactive_output(plot_rectangle_rule_end, {'start': start, 'end': end, 'num_slices': num_slices})\n",
    "display(ui, out)"
   ]
  },
  {
   "cell_type": "markdown",
   "id": "c2dac911-8501-46f6-b470-bc3365523f0e",
   "metadata": {
    "tags": []
   },
   "source": [
    "4. Trapezoid Rule"
   ]
  },
  {
   "cell_type": "code",
   "execution_count": 5,
   "id": "59daddb2-cb2e-424e-96d1-78f8ac948d3b",
   "metadata": {},
   "outputs": [
    {
     "data": {
      "application/vnd.jupyter.widget-view+json": {
       "model_id": "0fc8bdb1c19340b4b53426c2d21b1e16",
       "version_major": 2,
       "version_minor": 0
      },
      "text/plain": [
       "HBox(children=(IntSlider(value=-5, max=5, min=-5), IntSlider(value=5, max=5, min=-5), IntSlider(value=5, min=1…"
      ]
     },
     "metadata": {},
     "output_type": "display_data"
    },
    {
     "data": {
      "application/vnd.jupyter.widget-view+json": {
       "model_id": "6b1c4c9c8f2144c39a0a0cdd2e6e721e",
       "version_major": 2,
       "version_minor": 0
      },
      "text/plain": [
       "Output()"
      ]
     },
     "metadata": {},
     "output_type": "display_data"
    }
   ],
   "source": [
    "start = widgets.IntSlider(value=-5, min=-5, max=5)\n",
    "end = widgets.IntSlider(value=5, min=-5, max=5)\n",
    "num_slices = widgets.IntSlider(value = 5, min=1, max=100)\n",
    "ui = widgets.HBox([start, end, num_slices])\n",
    "\n",
    "out = widgets.interactive_output(plot_trapezoidal_rule, {'start': start, 'end': end, 'num_slices': num_slices})\n",
    "display(ui, out)"
   ]
  },
  {
   "cell_type": "markdown",
   "id": "2dc0965c-4dd1-4fc3-81e5-55836acb70cd",
   "metadata": {},
   "source": [
    "5. Barrel Rule"
   ]
  },
  {
   "cell_type": "code",
   "execution_count": 6,
   "id": "d4f8e999-bb9c-4e2c-a688-732336a3c975",
   "metadata": {},
   "outputs": [
    {
     "data": {
      "application/vnd.jupyter.widget-view+json": {
       "model_id": "4ff867bfd098404c8fa2858fb3e7b7b0",
       "version_major": 2,
       "version_minor": 0
      },
      "text/plain": [
       "HBox(children=(IntSlider(value=-5, max=5, min=-5), IntSlider(value=5, max=5, min=-5), IntSlider(value=1, min=1…"
      ]
     },
     "metadata": {},
     "output_type": "display_data"
    },
    {
     "data": {
      "application/vnd.jupyter.widget-view+json": {
       "model_id": "ccf6f6273ace446999e309240ed31629",
       "version_major": 2,
       "version_minor": 0
      },
      "text/plain": [
       "Output()"
      ]
     },
     "metadata": {},
     "output_type": "display_data"
    }
   ],
   "source": [
    "start = widgets.IntSlider(value=-5, min=-5, max=5)\n",
    "end = widgets.IntSlider(value=5, min=-5, max=5)\n",
    "num_slices = widgets.IntSlider(value = 1, min=1, max=100)\n",
    "ui = widgets.HBox([start, end, num_slices])\n",
    "\n",
    "out = widgets.interactive_output(plot_barrel_rule, {'start': start, 'end': end, 'num_slices': num_slices})\n",
    "display(ui, out)"
   ]
  }
 ],
 "metadata": {
  "kernelspec": {
   "display_name": "Python 3 (ipykernel)",
   "language": "python",
   "name": "python3"
  },
  "language_info": {
   "codemirror_mode": {
    "name": "ipython",
    "version": 3
   },
   "file_extension": ".py",
   "mimetype": "text/x-python",
   "name": "python",
   "nbconvert_exporter": "python",
   "pygments_lexer": "ipython3",
   "version": "3.9.8"
  }
 },
 "nbformat": 4,
 "nbformat_minor": 5
}
